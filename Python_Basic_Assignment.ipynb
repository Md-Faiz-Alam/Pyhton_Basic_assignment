{
  "cells": [
    {
      "cell_type": "markdown",
      "metadata": {
        "id": "MD9_WiVdRBYX"
      },
      "source": [
        "---\n",
        "# • Python Basics: Theoretical Answers\n",
        "---\n",
        "# 1. What is Python, and why is it popular?\n",
        "\n",
        "-> Python is a high-level, interpreted programming language known for its readability and versatility. It is popular due to its simple syntax, extensive libraries, strong community support, and wide applicability in fields like web development, data science, artificial intelligence, and more.\n",
        "\n",
        "# Its popularity stems from:\n",
        "\n",
        "* Easy syntax:  It feels natural, making it beginner-friendly yet          powerful for professionals.\n",
        "\n",
        "* Extensive libraries:  Packages like NumPy, pandas, and TensorFlow support a wide range of applications.\n",
        "\n",
        "* Cross-platform support:  Code runs seamlessly across Windows, macOS, and Linux.\n",
        "\n",
        "* Community:  A massive global community contributes to its development and support.\n",
        "\n",
        "* Applications:  From web development to AI and scientific computing, Python excels in nearly every domain.\n",
        "\n",
        "---\n",
        "\n",
        "# 2. What is an interpreter in Python?\n",
        "\n",
        "-> An interpreter is a program that reads Python code line by line, translates it into machine code, and executes it immediately. Python's interpreter enables fast testing and prototyping, allowing developers to quickly see results and debug issues.\n",
        "\n",
        "---\n",
        "\n",
        "# 3. What are pre-defined keywords in Python?\n",
        "\n",
        "-> Pre-defined keywords are reserved words in Python with special meanings. They form the language's syntax and cannot be redefined. Examples include (def, class, if, else, try, and finally).\n",
        "\n",
        "---\n",
        "\n",
        "# 4. Can keywords be used as variable names?\n",
        "\n",
        "-> No, keywords cannot be used as variable names because they are reserved for defining the language's behavior. Attempting to use a keyword as a variable name will result in a syntax error.\n",
        "\n",
        "---\n",
        "\n",
        "# 5. What is mutability in Python?\n",
        "\n",
        "-> Mutability refers to an object's ability to be changed after its creation.\n",
        "*   Mutable objects (e.g., lists, dictionaries): Can be modified in place.\n",
        "*   Immutable objects (e.g., strings, tuples): Cannot be altered after creation.\n",
        "\n",
        "---\n",
        "\n",
        "# 6. Why are lists mutable, but tuples are immutable?\n",
        "\n",
        "-> Lists are mutable because they are designed to handle dynamic data that requires frequent updates, like adding or removing elements. Tuples, being immutable, provide stability and are often used when data should remain constant or as keys in dictionaries.\n",
        "\n",
        "---\n",
        "\n",
        "# 7. What is the difference between == and is operators in Python?\n",
        "\n",
        "-> ==: Compares the values of two objects.\n",
        "\n",
        "-> is: Compares the identities of two objects (whether they point to the same memory location).\n"
      ]
    },
    {
      "cell_type": "code",
      "execution_count": null,
      "metadata": {
        "id": "DxLDbC-fWGk1"
      },
      "outputs": [],
      "source": [
        "# For example:\n",
        "\n",
        "a = [1, 2, 3]\n",
        "b = [1, 2, 3]\n",
        "print(a == b)  # True (values are equal)\n",
        "print(a is b)  # False (different memory locations)"
      ]
    },
    {
      "cell_type": "markdown",
      "metadata": {
        "id": "evhwg8AWWzmC"
      },
      "source": [
        "# 8. What are logical operators in Python?\n",
        "\n",
        "-> Logical operators are used to combine conditions:\n",
        "\n",
        "* and: True if both conditions are true.\n",
        "* or: True if at least one condition is true.\n",
        "* not: Inverts the truth value.\n",
        "---\n"
      ]
    },
    {
      "cell_type": "code",
      "execution_count": null,
      "metadata": {
        "id": "CerUZWujXfhJ"
      },
      "outputs": [],
      "source": [
        "# Example:\n",
        "\n",
        "x, y = 10, 20\n",
        "print(x > 5 and y > 15)  # True\n",
        "print(x > 15 or y > 15)  # True\n",
        "print(not (x > 15))      # True"
      ]
    },
    {
      "cell_type": "markdown",
      "metadata": {
        "id": "Hc1fsEgmXxBA"
      },
      "source": [
        "# 9. What is type casting in Python?\n",
        "\n",
        "-> Type casting is converting one data type to another. It allows flexibility and ensures compatibility between operations.\n",
        "\n",
        "For example:"
      ]
    },
    {
      "cell_type": "code",
      "execution_count": null,
      "metadata": {
        "id": "m-a8l3ObYJt3"
      },
      "outputs": [],
      "source": [
        "# casting\n",
        "age = \"30\"\n",
        "age_int = int(age)  # Converts string to integer"
      ]
    },
    {
      "cell_type": "markdown",
      "metadata": {
        "id": "FXzvbQBIYU0n"
      },
      "source": [
        "# 10.  What is the difference between implicit and explicit type casting?\n",
        "\n",
        "-> Implicit type casting: Automatically done by Python (e.g., int to\n",
        "   float).\n",
        "\n",
        "-> Explicit type casting: Done manually by the programmer using functions\n",
        "   like int(), float(), or str().\n",
        "\n",
        "Example:"
      ]
    },
    {
      "cell_type": "code",
      "execution_count": null,
      "metadata": {
        "id": "K01ss9-WY2BQ"
      },
      "outputs": [],
      "source": [
        "# Implicit\n",
        "x = 10 + 5.0  # Result is 15.0 (int + float = float)\n",
        "# Explicit\n",
        "x = int(5.6)  # Converts float to int (result: 5)"
      ]
    },
    {
      "cell_type": "markdown",
      "metadata": {
        "id": "BTHjLKK0bMAC"
      },
      "source": [
        "# 11. What is the purpose of conditional statements in Python?\n",
        "\n",
        "-> Conditional statements allow the program to make decisions based on conditions. They enable branching, so different blocks of code execute depending on the situation.\n",
        "\n",
        "---\n",
        "\n",
        "# 12.  How does the elif statement work?\n",
        "\n",
        "-> The elif statement allows for multiple conditions to be evaluated sequentially. If a condition is True, its corresponding block executes, and the rest are skipped.\n",
        "\n",
        "Example:\n"
      ]
    },
    {
      "cell_type": "code",
      "execution_count": null,
      "metadata": {
        "id": "koEgURE2ch-3"
      },
      "outputs": [],
      "source": [
        "x = 10\n",
        "if x < 5:\n",
        "    print(\"Less than 5\")\n",
        "elif x == 10:\n",
        "    print(\"Equal to 10\") # This will printed\n",
        "else:\n",
        "    print(\"Greater than 10\")\n"
      ]
    },
    {
      "cell_type": "markdown",
      "metadata": {
        "id": "bHV82k4sc7gv"
      },
      "source": [
        "# 13. What is the difference between for and while loops?\n",
        "\n",
        "*   for loop: Iterates over a sequence for a fixed number of steps.\n",
        "*   while loop: Continues until a condition becomes False.\n",
        "\n",
        "---\n",
        "\n",
        "# 14. Describe a scenario where a while loop is more suitable than a for loop.\n",
        "\n",
        "-> A while loop is more suitable when the number of iterations is not known in advance, such as continuously reading user input until they enter a specific value.\n",
        "\n",
        " example:\n",
        "\n"
      ]
    },
    {
      "cell_type": "code",
      "execution_count": null,
      "metadata": {
        "id": "9XpOUqMAdkvW"
      },
      "outputs": [],
      "source": [
        "# Continuously Run until user enter \"exit\"\n",
        "while True:\n",
        "    user_input = input(\"Enter command: \")\n",
        "    if user_input == \"exit\":\n",
        "        break\n"
      ]
    },
    {
      "cell_type": "markdown",
      "metadata": {
        "id": "DXsxQ6Doe96b"
      },
      "source": [
        "---\n",
        "# • Python Basics: Practical Answers\n",
        "---\n",
        "## 1. Write a Python program to print \"Hello, World!\"."
      ]
    },
    {
      "cell_type": "code",
      "execution_count": null,
      "metadata": {
        "id": "ppIwhn-D1tQV"
      },
      "outputs": [],
      "source": [
        "print(\"Hello, World!\")\n",
        "# Output = Hello, World!"
      ]
    },
    {
      "cell_type": "markdown",
      "metadata": {
        "id": "DTwI8teH13ps"
      },
      "source": [
        "## 2.  Write a Python program that displays your name and age."
      ]
    },
    {
      "cell_type": "code",
      "execution_count": null,
      "metadata": {
        "id": "Q2LEgDaM2A7r"
      },
      "outputs": [],
      "source": [
        "name = \"Md Faiz Alam\"\n",
        "age = 20\n",
        "print(f\"My name is {name} and I am {age} years old.\")\n",
        "# Output = My name is Md Faiz Alam and I am 20 years old."
      ]
    },
    {
      "cell_type": "markdown",
      "metadata": {
        "id": "gyMsR7U22ibq"
      },
      "source": [
        "## 3.Write code to print all the pre-defined keywords in Python using the keyword library."
      ]
    },
    {
      "cell_type": "code",
      "execution_count": null,
      "metadata": {
        "id": "aElwu0t02zFZ"
      },
      "outputs": [],
      "source": [
        "import keyword\n",
        "\n",
        "print(\"Python Keywords:\")\n",
        "print(keyword.kwlist)\n",
        "\n",
        "# Output = Python Keywords:\n",
        "# ['False', 'None', 'True', 'and', 'as', 'assert', 'async', 'await', 'break', 'class', 'continue', 'def', 'del', 'elif', 'else', 'except', 'finally', 'for',\n",
        "# 'from', 'global', 'if', 'import', 'in', 'is', 'lambda', 'nonlocal', 'not', 'or', 'pass', 'raise', 'return', 'try', 'while', 'with', 'yield'] '''"
      ]
    },
    {
      "cell_type": "markdown",
      "metadata": {
        "id": "aZzZtRhC4PuN"
      },
      "source": [
        "## 4. Write a program that checks if a given word is a Python keyword."
      ]
    },
    {
      "cell_type": "code",
      "execution_count": null,
      "metadata": {
        "id": "xcj8S0NG4UrV"
      },
      "outputs": [],
      "source": [
        "import keyword\n",
        "\n",
        "word = input(\"Enter a word: \")\n",
        "if keyword.iskeyword(word):\n",
        "    print(f\"'{word}' is a Python keyword.\")\n",
        "else:\n",
        "    print(f\"'{word}' is not a Python keyword.\")\n",
        "\n",
        "# Output = Enter a word: if\n",
        "# 'if' is a Python keyword. '''"
      ]
    },
    {
      "cell_type": "markdown",
      "metadata": {
        "id": "DX8t_igk400D"
      },
      "source": [
        "## 5. Create a list and tuple in Python, and demonstrate how attempting to change an element works differently from each.\n"
      ]
    },
    {
      "cell_type": "code",
      "execution_count": null,
      "metadata": {
        "id": "Ppzx68HE5Ig8"
      },
      "outputs": [],
      "source": [
        "# List (Mutable)\n",
        "my_list = [1, 2, 3]\n",
        "print(\"Original list:\", my_list)\n",
        "my_list[1] = 42\n",
        "print(\"Modified list:\", my_list)\n",
        "\n",
        "# Tuple (Immutable)\n",
        "my_tuple = (1, 2, 3)\n",
        "print(\"Original tuple:\", my_tuple)\n",
        "try:\n",
        "    my_tuple[1] = 42  # This will raise an error\n",
        "except TypeError as e:\n",
        "    print(f\"Error: {e}\")\n",
        "\n",
        "# Output = Original list: [1, 2, 3]\n",
        "# Modified list: [1, 42, 3]\n",
        "# Original tuple: (1, 2, 3)\n",
        "# Error: 'tuple' object does not support item assignment '''"
      ]
    },
    {
      "cell_type": "markdown",
      "metadata": {
        "id": "77QifTRZ5u5Z"
      },
      "source": [
        "## 6. Write a function to demonstrate the behavior of mutable and immutable arguments."
      ]
    },
    {
      "cell_type": "code",
      "execution_count": null,
      "metadata": {
        "id": "YvXubtjk52Eo"
      },
      "outputs": [],
      "source": [
        "def demonstrate_mutable_and_immutable(mutable, immutable):\n",
        "    mutable.append(42)  # Modifies the list (mutable)\n",
        "    immutable += 42     # Creates a new integer (immutable)\n",
        "    print(\"Inside function:\")\n",
        "    print(f\"Mutable: {mutable}, Immutable: {immutable}\")\n",
        "\n",
        "my_list = [1, 2, 3]  # List is mutable\n",
        "my_int = 10          # Integer is immutable\n",
        "\n",
        "demonstrate_mutable_and_immutable(my_list, my_int)\n",
        "print(\"Outside function:\")\n",
        "print(f\"Mutable: {my_list}, Immutable: {my_int}\")\n",
        "\n",
        "# Output = Inside function:\n",
        "# Mutable: [1, 2, 3, 42], Immutable: 50\n",
        "# Outside function:\n",
        "# Mutable: [1, 2, 3, 42], Immutable: 10 "
      ]
    },
    {
      "cell_type": "markdown",
      "metadata": {
        "id": "HzWy5HBE6mwW"
      },
      "source": [
        "## 7. Write a function to demonstrate the behavior of mutable and immutable arguments."
      ]
    },
    {
      "cell_type": "code",
      "execution_count": null,
      "metadata": {
        "id": "ByDcxPA362Qt"
      },
      "outputs": [],
      "source": [
        "def demonstrate_mutable_and_immutable(mutable, immutable):\n",
        "    mutable.append(42)  # Modifies the list (mutable)\n",
        "    immutable += 42     # Creates a new integer (immutable)\n",
        "    print(\"Inside function:\")\n",
        "    print(f\"Mutable: {mutable}, Immutable: {immutable}\")\n",
        "\n",
        "my_list = [1, 2, 3]  # List is mutable\n",
        "my_int = 10          # Integer is immutable\n",
        "\n",
        "demonstrate_mutable_and_immutable(my_list, my_int)\n",
        "print(\"Outside function:\")\n",
        "print(f\"Mutable: {my_list}, Immutable: {my_int}\")\n",
        "\n",
        "# Output = Inside function:\n",
        "# Mutable: [1, 2, 3, 42], Immutable: 50\n",
        "# Outside function:\n",
        "# Mutable: [1, 2, 3, 42], Immutable: 10 '''"
      ]
    },
    {
      "cell_type": "markdown",
      "metadata": {
        "id": "zO7Wcx9q671F"
      },
      "source": [
        "## 8. Write a program to demonstrate the use of logical operators."
      ]
    },
    {
      "cell_type": "code",
      "execution_count": null,
      "metadata": {
        "id": "uYbncAXa7DoE"
      },
      "outputs": [],
      "source": [
        "x = 10\n",
        "y = 5\n",
        "\n",
        "print(\"Logical Operators:\")\n",
        "print(f\"x > 5 and y < 10: {x > 5 and y < 10}\")\n",
        "print(f\"x > 15 or y < 10: {x > 15 or y < 10}\")\n",
        "print(f\"not (x > 15): {not (x > 15)}\")\n",
        "\n",
        "# Output = Logical Operators:\n",
        "# x > 5 and y < 10: True\n",
        "# x > 15 or y < 10: False\n",
        "# not (x > 15): True"
      ]
    },
    {
      "cell_type": "markdown",
      "metadata": {
        "id": "FoXuo-Da7ZEV"
      },
      "source": [
        "## 9. Write a Python program to convert user input from string to integer, float, and boolean types."
      ]
    },
    {
      "cell_type": "code",
      "execution_count": null,
      "metadata": {
        "id": "QydprcWH7jXD"
      },
      "outputs": [],
      "source": [
        "user_input = input(\"Enter something: \")\n",
        "\n",
        "# Convert to integer\n",
        "try:\n",
        "    int_value = int(user_input)\n",
        "    print(\"Integer:\", int_value)\n",
        "except ValueError:\n",
        "    print(\"Cannot convert to integer.\")\n",
        "\n",
        "# Convert to float\n",
        "try:\n",
        "    float_value = float(user_input)\n",
        "    print(\"Float:\", float_value)\n",
        "except ValueError:\n",
        "    print(\"Cannot convert to float.\")\n",
        "\n",
        "# Convert to boolean\n",
        "bool_value = bool(user_input)\n",
        "print(\"Boolean:\", bool_value)\n",
        "\n",
        "# Output = Enter something: 10\n",
        "# Integer: 10\n",
        "# Float: 10.0\n",
        "# Boolean: True '''"
      ]
    },
    {
      "cell_type": "markdown",
      "metadata": {
        "id": "b7wLXo-r815A"
      },
      "source": [
        "## 10. Write code to demonstrate type casting with list elements."
      ]
    },
    {
      "cell_type": "code",
      "execution_count": null,
      "metadata": {
        "id": "uedmMRVY89AP"
      },
      "outputs": [],
      "source": [
        "original_list = [\"1\", \"2\", \"3\"]\n",
        "\n",
        "# Convert to integers\n",
        "int_list = [int(x) for x in original_list]\n",
        "print(\"Integer list:\", int_list)\n",
        "\n",
        "# Convert to floats\n",
        "float_list = [float(x) for x in original_list]\n",
        "print(\"Float list:\", float_list)\n",
        "\n",
        "# Output = Integer list: [1, 2, 3]\n",
        "# Float list: [1.0, 2.0, 3.0] "
      ]
    },
    {
      "cell_type": "markdown",
      "metadata": {
        "id": "rJGbgbnZ9R_m"
      },
      "source": [
        "## 11. Write a program that checks if a number is positive, negative, or zero."
      ]
    },
    {
      "cell_type": "code",
      "execution_count": null,
      "metadata": {
        "id": "HU9X0I2b9eB-"
      },
      "outputs": [],
      "source": [
        "number = float(input(\"Enter a number: \"))\n",
        "if number > 0:\n",
        "    print(\"The number is positive.\")\n",
        "elif number < 0:\n",
        "    print(\"The number is negative.\")\n",
        "else:\n",
        "    print(\"The number is zero.\")\n",
        "\n",
        "# Output = Enter a number: 10\n",
        "# The number is positive. "
      ]
    },
    {
      "cell_type": "markdown",
      "metadata": {
        "id": "PcaZRM7B9yB8"
      },
      "source": [
        "## 12. Write a for loop to print numbers from 1 to 10."
      ]
    },
    {
      "cell_type": "code",
      "execution_count": null,
      "metadata": {
        "id": "_Ic8VPDH94t8"
      },
      "outputs": [],
      "source": [
        "for i in range(1, 10):\n",
        "    print(i)\n"
      ]
    },
    {
      "cell_type": "markdown",
      "metadata": {
        "id": "TGU99PS9_Bgp"
      },
      "source": [
        "## 13. Write a Python program to find the sum of all even numbers between 1 and 50.\n"
      ]
    },
    {
      "cell_type": "code",
      "execution_count": null,
      "metadata": {
        "id": "-N1UoqkC_N8Y"
      },
      "outputs": [],
      "source": [
        "total = sum(i for i in range(1, 50) if i % 2 == 0)\n",
        "print(\"Sum of all even numbers between 1 and 50:\", total)\n",
        "\n",
        "# Output = Sum of all even numbers between 1 and 50: 600"
      ]
    },
    {
      "cell_type": "markdown",
      "metadata": {
        "id": "IzKepcBB_flC"
      },
      "source": [
        "## 14. Write a program to reverse a string using a while loop."
      ]
    },
    {
      "cell_type": "code",
      "execution_count": null,
      "metadata": {
        "id": "CjKY_K78_rXX"
      },
      "outputs": [],
      "source": [
        "string = input(\"Enter a string: \")\n",
        "reversed_string = \"\"\n",
        "i = len(string) - 1\n",
        "\n",
        "while i >= 0:\n",
        "    reversed_string += string[i]\n",
        "    i -= 1\n",
        "\n",
        "print(\"Reversed string:\", reversed_string)\n",
        "\n",
        "# Output = Enter a string: faiz\n",
        "#          Reversed string: ziaf"
      ]
    },
    {
      "cell_type": "markdown",
      "metadata": {
        "id": "f2sG2EKyAD_m"
      },
      "source": [
        "## 15. Write a Python program to calculate the factorial of a number provided by the user using a while loop."
      ]
    },
    {
      "cell_type": "code",
      "execution_count": null,
      "metadata": {
        "id": "bPysf5FHAKHO"
      },
      "outputs": [],
      "source": [
        "number = int(input(\"Enter a number: \"))\n",
        "factorial = 1\n",
        "\n",
        "if number < 0:\n",
        "    print(\"Factorial is not defined for negative numbers.\")\n",
        "else:\n",
        "    i = 1\n",
        "    while i <= number:\n",
        "        factorial *= i\n",
        "        i += 1\n",
        "    print(f\"The factorial of {number} is {factorial}.\")\n",
        "\n",
        "# Output = Enter a number: 10\n",
        "#          The factorial of 10 is 3628800."
      ]
    },
    {
      "cell_type": "markdown",
      "metadata": {
        "id": "T0XFARxdEEsT"
      },
      "source": [
        "# ▪ Author's Note\n",
        "\n",
        "I am Md Faiz Alam, an aspiring programmer dedicated to mastering Python. Completing these assignments has been a rewarding experience, allowing me to delve into Python's versatile features. I look forward to leveraging this knowledge in my future endeavors.\n",
        "\n",
        " Thank you for reviewing my work!"
      ]
    }
  ],
  "metadata": {
    "colab": {
      "provenance": []
    },
    "kernelspec": {
      "display_name": "Python 3",
      "name": "python3"
    },
    "language_info": {
      "name": "python"
    }
  },
  "nbformat": 4,
  "nbformat_minor": 0
}
